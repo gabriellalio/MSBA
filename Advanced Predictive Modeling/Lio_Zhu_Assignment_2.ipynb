{
 "cells": [
  {
   "cell_type": "markdown",
   "metadata": {},
   "source": [
    "\n",
    "# <p style=\"text-align: center;\">MIS382: Advanced Predictive Modeling</p>\n",
    "# <p style=\"text-align: center;\">Assignment 2</p>\n",
    "## <p style=\"text-align: center;\">Total points: 40</p>\n",
    "## <p style=\"text-align: center;\">Due: Wed, October 4th, submitted via Canvas by 11:59 pm</p>\n",
    "\n",
    "Your homework should be written in a **Jupyter notebook**. You may work in groups of two if you wish. Only one student per team needs to submit the assignment on Canvas.  But be sure to include name and UTID for both students.  Homework groups will be created and managed through Canvas, so please do not arbitrarily change your homework group.  \n",
    "\n",
    "Also, please make sure your code runs and the graphics (and anything else) are displayed in your notebook before submitting. (%matplotlib inline)"
   ]
  },
  {
   "cell_type": "markdown",
   "metadata": {},
   "source": [
    "Gaby Lio - gkl239\n",
    "\n",
    "Shirley Zhu - sxz64"
   ]
  },
  {
   "cell_type": "markdown",
   "metadata": {},
   "source": [
    "# Question 1 - Bias-variance Trandeoff (2pts)\n",
    "How does the choice of K in the K-nearest neighbor classifier reflect a bias-variance tradeoff?\n",
    "\n",
    "## Answer"
   ]
  },
  {
   "cell_type": "markdown",
   "metadata": {},
   "source": [
    "In k-nearest neighbor models, a high value of k leads to high bias and low variance and a low value of K leads to a low bias and a high variance. \n",
    "\n",
    "Since k-NN fits a specific point in the data with the N nearest data points in your training set, for a 1-NN this point depends only of 1 single other point. This means, that your model is really close to your training data and therefore the bias is low. In contrast to this the variance in your model is high, because your model is extremely sensitive. \n",
    "\n",
    "For example, if you randomly picked a different subset for your training set using a 1-NN would likely change your models predictions dramatically, insinuating there is a very high variance. In contrast, 10-NN would probably give you the same predictions no matter what training set you used, so a higher K means a lower variance. \n"
   ]
  },
  {
   "cell_type": "markdown",
   "metadata": {},
   "source": [
    "# Question 2: Data Exploration and Regression Analysis (4+3+4+4=15pts)\n",
    "\n",
    "Consider the dataset provided (russett_full_v2.csv) about agricultural inequality, industrial development and political instability in different countries. More information about it can be found [here](https://www.rdocumentation.org/packages/plspm/versions/0.4.9/topics/russett) though the data itself is slightly different than that referenced in the link.\n",
    "\n",
    "a) (4 points) Generate box-plots of the \"rent\" (% of farmers that rent all their land), \"inst\" (measure of political stability in the executive branch), \"ecks\" (number of violent internal war incidents ) and \"demo_score\" ( derived measure of the level of a country's democracy from 1945 to 61 ) and identify the cutoff values for outliers. \n",
    "\n",
    "Generate 3 scatterplots of \"rent\" against \"demo_score\", \"inst\" against \"demo_score\" and \"ecks\" against \"demo_score\" with the identified outliers colored differently than non-outliers in each; comment on how inclusion of the outliers would affect a predictive model for the \"demo_score\" response.  \n",
    "\n",
    "b) (3 points) Let us try to fit an MLR, using ordinary least squares, to this dataset with \"demo_score\" as the dependent variable using only the predictors 'rent','inst', and 'ecks' . \n",
    "\n",
    "    from sklearn.model_selection import train_test_split\n",
    "    X_train, X_test, y_train, y_test = train_test_split(X,y,test_size = 0.30, random_state=22)   \n",
    "\n",
    "Report the RMSE obtained on both X_train and X_test. How much does this increase when you score your model on X_test?\n",
    "\n",
    "c) (4 points ) Try to predict ”demo_score” using a robust regression using Huber loss.  You can use the [sklearn package](  http://scikit-learn.org/stable/modules/generated/sklearn.linear_model.HuberRegressor.html).  Set regularization parameter alpha to 0.0 and all other parameters as default.\n",
    "Report RMSE obtained on both X_train and X_test.\n",
    "\n",
    "d) (4 points ) Compare and comment on the model fits obtained in (b) and (c) and plot the residual plots using all data for each model. How do outliers affect the relative performance of ordinary least squares regression, and robust regression with Huber loss in general? \n",
    "\n",
    "## Answer"
   ]
  },
  {
   "cell_type": "markdown",
   "metadata": {},
   "source": [
    "## PART A"
   ]
  },
  {
   "cell_type": "code",
   "execution_count": 54,
   "metadata": {
    "collapsed": true
   },
   "outputs": [],
   "source": [
    "%matplotlib inline\n",
    "\n",
    "import numpy as np\n",
    "import pandas as pd\n",
    "import matplotlib.pyplot as plt"
   ]
  },
  {
   "cell_type": "code",
   "execution_count": 55,
   "metadata": {},
   "outputs": [
    {
     "data": {
      "text/html": [
       "<div>\n",
       "<style>\n",
       "    .dataframe thead tr:only-child th {\n",
       "        text-align: right;\n",
       "    }\n",
       "\n",
       "    .dataframe thead th {\n",
       "        text-align: left;\n",
       "    }\n",
       "\n",
       "    .dataframe tbody tr th {\n",
       "        vertical-align: top;\n",
       "    }\n",
       "</style>\n",
       "<table border=\"1\" class=\"dataframe\">\n",
       "  <thead>\n",
       "    <tr style=\"text-align: right;\">\n",
       "      <th></th>\n",
       "      <th>country</th>\n",
       "      <th>gini</th>\n",
       "      <th>farm</th>\n",
       "      <th>rent</th>\n",
       "      <th>gnpr</th>\n",
       "      <th>labo</th>\n",
       "      <th>inst</th>\n",
       "      <th>ecks</th>\n",
       "      <th>death</th>\n",
       "      <th>demo_class</th>\n",
       "      <th>demo_score</th>\n",
       "    </tr>\n",
       "  </thead>\n",
       "  <tbody>\n",
       "    <tr>\n",
       "      <th>0</th>\n",
       "      <td>Argentina</td>\n",
       "      <td>86.3</td>\n",
       "      <td>98.2</td>\n",
       "      <td>47.9</td>\n",
       "      <td>374</td>\n",
       "      <td>25</td>\n",
       "      <td>16.6</td>\n",
       "      <td>47.0</td>\n",
       "      <td>217</td>\n",
       "      <td>2</td>\n",
       "      <td>35</td>\n",
       "    </tr>\n",
       "    <tr>\n",
       "      <th>1</th>\n",
       "      <td>Australia</td>\n",
       "      <td>92.9</td>\n",
       "      <td>99.6</td>\n",
       "      <td>30.0</td>\n",
       "      <td>1215</td>\n",
       "      <td>14</td>\n",
       "      <td>19.3</td>\n",
       "      <td>0.0</td>\n",
       "      <td>0</td>\n",
       "      <td>1</td>\n",
       "      <td>89</td>\n",
       "    </tr>\n",
       "    <tr>\n",
       "      <th>2</th>\n",
       "      <td>Austria</td>\n",
       "      <td>74.0</td>\n",
       "      <td>97.4</td>\n",
       "      <td>25.7</td>\n",
       "      <td>532</td>\n",
       "      <td>32</td>\n",
       "      <td>15.8</td>\n",
       "      <td>4.0</td>\n",
       "      <td>0</td>\n",
       "      <td>2</td>\n",
       "      <td>52</td>\n",
       "    </tr>\n",
       "    <tr>\n",
       "      <th>3</th>\n",
       "      <td>Belgium</td>\n",
       "      <td>58.7</td>\n",
       "      <td>85.8</td>\n",
       "      <td>98.3</td>\n",
       "      <td>1015</td>\n",
       "      <td>10</td>\n",
       "      <td>23.5</td>\n",
       "      <td>8.0</td>\n",
       "      <td>1</td>\n",
       "      <td>1</td>\n",
       "      <td>98</td>\n",
       "    </tr>\n",
       "    <tr>\n",
       "      <th>4</th>\n",
       "      <td>Bolivia</td>\n",
       "      <td>93.8</td>\n",
       "      <td>97.7</td>\n",
       "      <td>35.0</td>\n",
       "      <td>66</td>\n",
       "      <td>72</td>\n",
       "      <td>18.3</td>\n",
       "      <td>43.0</td>\n",
       "      <td>663</td>\n",
       "      <td>3</td>\n",
       "      <td>19</td>\n",
       "    </tr>\n",
       "  </tbody>\n",
       "</table>\n",
       "</div>"
      ],
      "text/plain": [
       "     country  gini  farm  rent  gnpr  labo  inst  ecks  death  demo_class  \\\n",
       "0  Argentina  86.3  98.2  47.9   374    25  16.6  47.0    217           2   \n",
       "1  Australia  92.9  99.6  30.0  1215    14  19.3   0.0      0           1   \n",
       "2    Austria  74.0  97.4  25.7   532    32  15.8   4.0      0           2   \n",
       "3    Belgium  58.7  85.8  98.3  1015    10  23.5   8.0      1           1   \n",
       "4    Bolivia  93.8  97.7  35.0    66    72  18.3  43.0    663           3   \n",
       "\n",
       "   demo_score  \n",
       "0          35  \n",
       "1          89  \n",
       "2          52  \n",
       "3          98  \n",
       "4          19  "
      ]
     },
     "execution_count": 55,
     "metadata": {},
     "output_type": "execute_result"
    }
   ],
   "source": [
    "data = pd.read_csv(\"russett_full_v2.csv\")\n",
    "data.head()"
   ]
  },
  {
   "cell_type": "code",
   "execution_count": 56,
   "metadata": {},
   "outputs": [
    {
     "data": {
      "image/png": "[encoded data removed]",
      "text/plain": [
       "<matplotlib.figure.Figure at 0x10def898>"
      ]
     },
     "metadata": {},
     "output_type": "display_data"
    }
   ],
   "source": [
    "fig = plt.figure(figsize=(12,10))\n",
    "color = dict(boxes='DarkGreen', whiskers='DarkOrange',medians='DarkBlue', caps='Gray')\n",
    "fig.add_subplot(2,2,1)\n",
    "data['rent'].plot.box(color=color, sym='r+')\n",
    "\n",
    "fig.add_subplot(2,2,2)\n",
    "data['inst'].plot.box(color=color, sym='r+')\n",
    "\n",
    "fig.add_subplot(2,2,3)\n",
    "data['ecks'].plot.box(color=color, sym='r+')\n",
    "\n",
    "fig.add_subplot(2,2,4)\n",
    "data['demo_score'].plot.box(color=color, sym='r+')\n",
    "plt.tight_layout()\n",
    "plt.show()"
   ]
  },
  {
   "cell_type": "code",
   "execution_count": 57,
   "metadata": {},
   "outputs": [
    {
     "name": "stdout",
     "output_type": "stream",
     "text": [
      "RENT ('<1.5 IQR below 1st Q =', -9.0, '>1.5 IQR sbove 3rd Q =', 68.0)\n",
      "INST ('<1.5 IQR below 1st Q =', 12.0, '>1.5 IQR sbove 3rd Q =', 23.0)\n",
      "ECKS ('<1.5 IQR below 1st Q =', -25.0, '>1.5 IQR sbove 3rd Q =', 52.0)\n",
      "DEMO_SCORE ('<1.5 IQR below 1st Q =', -56.0, '>1.5 IQR sbove 3rd Q =', 154.0)\n"
     ]
    }
   ],
   "source": [
    "def cacluateoutlier(frame, column):\n",
    "    df = frame.describe()\n",
    "    outlier1 =df[column][4] -((df[column][6]- df[column][4])*1.5)\n",
    "    outlier2 = df[column][6] +((df[column][6]- df[column][4])*1.5)\n",
    "    return '<1.5 IQR below 1st Q =',round(outlier1),'>1.5 IQR sbove 3rd Q =',round(outlier2)\n",
    "    \n",
    "print 'RENT', cacluateoutlier(data, 'rent')\n",
    "print 'INST', cacluateoutlier(data, 'inst')\n",
    "print 'ECKS', cacluateoutlier(data, 'ecks')\n",
    "print 'DEMO_SCORE', cacluateoutlier(data, 'demo_score')"
   ]
  },
  {
   "cell_type": "code",
   "execution_count": 58,
   "metadata": {},
   "outputs": [
    {
     "data": {
      "image/png": "[encoded data removed]",
      "text/plain": [
       "<matplotlib.figure.Figure at 0xbc36860>"
      ]
     },
     "metadata": {},
     "output_type": "display_data"
    }
   ],
   "source": [
    "x = data['rent']\n",
    "y = data['demo_score']\n",
    "xmasked = x.mask( (x> 68) | (x<-9))\n",
    "ymasked = y.mask((y>154) | (y<-56))\n",
    "\n",
    "fig=plt.figure()\n",
    "fig.suptitle('RENT vs. DEMO_SCORE', fontsize=20)\n",
    "ax=fig.add_subplot(111)\n",
    "ax.scatter(x, y, color='red')\n",
    "ax.scatter(xmasked, ymasked, color='blue')\n",
    "# plot points outside distribution's width\n",
    "ax.legend([\"Outliers\", \"Non-Outliers\"])\n",
    "plt.xlabel('rent')\n",
    "plt.ylabel('demo_score')\n",
    "plt.show()\n"
   ]
  },
  {
   "cell_type": "code",
   "execution_count": 59,
   "metadata": {},
   "outputs": [
    {
     "data": {
      "image/png": "[encoded data removed]",
      "text/plain": [
       "<matplotlib.figure.Figure at 0x10c8ecf8>"
      ]
     },
     "metadata": {},
     "output_type": "display_data"
    }
   ],
   "source": [
    "x = data['inst']\n",
    "y = data['demo_score']\n",
    "xmasked = x.mask( (x> 23) | (x<12))\n",
    "ymasked = y.mask((y>154) | (y<-56))\n",
    "\n",
    "fig=plt.figure()\n",
    "fig.suptitle('INST vs. DEMO_SCORE', fontsize=20)\n",
    "ax=fig.add_subplot(111)\n",
    "ax.scatter(x, y, color='red')\n",
    "ax.scatter(xmasked, ymasked, color='blue')\n",
    "# plot points outside distribution's width\n",
    "ax.legend([\"Outliers\", \"Non-Outliers\"])\n",
    "plt.xlabel('inst')\n",
    "plt.ylabel('demo_score')\n",
    "plt.show()"
   ]
  },
  {
   "cell_type": "code",
   "execution_count": 60,
   "metadata": {},
   "outputs": [
    {
     "data": {
      "image/png": "[encoded data removed]",
      "text/plain": [
       "<matplotlib.figure.Figure at 0xa8a4198>"
      ]
     },
     "metadata": {},
     "output_type": "display_data"
    }
   ],
   "source": [
    "x = data['ecks']\n",
    "y = data['demo_score']\n",
    "xmasked = x.mask( (x>52) | (x<-25))\n",
    "ymasked = y.mask((y>154) | (y<-56))\n",
    "\n",
    "fig=plt.figure()\n",
    "fig.suptitle('ECKS vs. DEMO_SCORE', fontsize=20)\n",
    "ax=fig.add_subplot(111)\n",
    "ax.scatter(x, y, color='red')\n",
    "ax.scatter(xmasked, ymasked, color='blue')\n",
    "# plot points outside distribution's width\n",
    "ax.legend([\"Outliers\", \"Non-Outliers\"])\n",
    "plt.xlabel('ecks')\n",
    "plt.ylabel('demo_score')\n",
    "plt.show()"
   ]
  },
  {
   "cell_type": "markdown",
   "metadata": {},
   "source": [
    "If we were to predict demo_score using OLS, our results would be affected by the outliers highlighted in the scatter plots above. Since OLS involves minimizing the sum of the squared vertical distances between each data point and the fitted line, if a model is fitted on data containing outliers, the line of best fit will be erroneously pulled towards the outliers and the resulting coefficient estimates will be off. "
   ]
  },
  {
   "cell_type": "markdown",
   "metadata": {},
   "source": [
    "## PART B"
   ]
  },
  {
   "cell_type": "code",
   "execution_count": 61,
   "metadata": {
    "collapsed": true
   },
   "outputs": [],
   "source": [
    "from sklearn.model_selection import train_test_split\n",
    "\n",
    "X = data[['rent', 'inst', 'ecks']]\n",
    "y = data[['demo_score']]\n",
    "\n",
    "X_train, X_test, y_train, y_test = train_test_split(X,y,test_size = 0.30, random_state=22)   "
   ]
  },
  {
   "cell_type": "code",
   "execution_count": 62,
   "metadata": {},
   "outputs": [
    {
     "name": "stdout",
     "output_type": "stream",
     "text": [
      "The mean squared error for training/training is:  25.781460397\n",
      "The mean squared error for training/test is:  32.580671803\n"
     ]
    }
   ],
   "source": [
    "from sklearn import datasets, linear_model\n",
    "from sklearn.metrics import mean_squared_error\n",
    "\n",
    "lm = linear_model.LinearRegression()\n",
    "modelsplit = lm.fit(X_train,y_train)\n",
    "\n",
    "predictionstrain = lm.predict(X_train)\n",
    "predictions = lm.predict(X_test)\n",
    "\n",
    "print \"The mean squared error for training/training is: \" , np.sqrt(mean_squared_error(y_train, predictionstrain))\n",
    "print \"The mean squared error for training/test is: \" , np.sqrt(mean_squared_error(y_test, predictions))"
   ]
  },
  {
   "cell_type": "markdown",
   "metadata": {},
   "source": [
    "When we score the model on X_test versus X_Train the root mean squared error increases from 25.7 to 32.5."
   ]
  },
  {
   "cell_type": "code",
   "execution_count": 63,
   "metadata": {},
   "outputs": [
    {
     "data": {
      "image/png": "[encoded data removed]",
      "text/plain": [
       "<matplotlib.figure.Figure at 0xd830ac8>"
      ]
     },
     "metadata": {},
     "output_type": "display_data"
    }
   ],
   "source": [
    "residualstest = (predictions-y_test)\n",
    "residualstrain = (predictionstrain -y_train)\n",
    "\n",
    "fig=plt.figure()\n",
    "fig.suptitle('OLS RESIDUAL PLOT', fontsize=20)\n",
    "ax=fig.add_subplot(111)\n",
    "ax.scatter(predictions, residualstest, color='blue')\n",
    "ax.scatter(predictionstrain, residualstrain, color='red')\n",
    "# plot points outside distribution's width\n",
    "ax.legend([\"Test\", \"Train\"])\n",
    "plt.xlabel('fited')\n",
    "plt.ylabel('residuals')\n",
    "plt.hlines(y=0, xmin=0, xmax=70)\n",
    "plt.show()\n",
    "\n"
   ]
  },
  {
   "cell_type": "markdown",
   "metadata": {},
   "source": [
    "## PART C"
   ]
  },
  {
   "cell_type": "code",
   "execution_count": 64,
   "metadata": {
    "collapsed": true
   },
   "outputs": [],
   "source": [
    "from sklearn.datasets import make_regression\n",
    "from sklearn.linear_model import HuberRegressor, Ridge"
   ]
  },
  {
   "cell_type": "code",
   "execution_count": 65,
   "metadata": {},
   "outputs": [
    {
     "name": "stdout",
     "output_type": "stream",
     "text": [
      "The mean squared error for training/training is:  26.8358817541\n",
      "The mean squared error for training/test is:  29.1663802872\n"
     ]
    }
   ],
   "source": [
    "from sklearn.model_selection import train_test_split\n",
    "\n",
    "X = data[['rent', 'inst', 'ecks']]\n",
    "y = data['demo_score']\n",
    "\n",
    "X_train, X_test, y_train, y_test = train_test_split(X,y,test_size = 0.30, random_state=22)   \n",
    "\n",
    "huber = HuberRegressor(alpha=0.0)\n",
    "model = huber.fit(X_train, y_train)\n",
    "\n",
    "predictionshubertrain = huber.predict(X_train)\n",
    "predictionshubertest = huber.predict(X_test)\n",
    "\n",
    "print \"The mean squared error for training/training is: \" , np.sqrt(mean_squared_error(y_train, predictionshubertrain))\n",
    "print \"The mean squared error for training/test is: \" , np.sqrt(mean_squared_error(y_test, predictionshubertest))"
   ]
  },
  {
   "cell_type": "code",
   "execution_count": 66,
   "metadata": {},
   "outputs": [
    {
     "data": {
      "image/png": "[encoded data removed]",
      "text/plain": [
       "<matplotlib.figure.Figure at 0xd9f5400>"
      ]
     },
     "metadata": {},
     "output_type": "display_data"
    }
   ],
   "source": [
    "residualshuber = predictionshubertest-y_test\n",
    "residualshubertrain = (predictionshubertrain-y_train)\n",
    "\n",
    "fig=plt.figure()\n",
    "fig.suptitle('HUBER RESIDUAL PLOT', fontsize=20)\n",
    "ax=fig.add_subplot(111)\n",
    "ax.scatter(predictionshubertest, residualshuber, color='blue')\n",
    "ax.scatter(predictionshubertrain, residualshubertrain, color='red')\n",
    "# plot points outside distribution's width\n",
    "ax.legend([\"Test\", \"Train\"])\n",
    "plt.xlabel('fited')\n",
    "plt.ylabel('residuals')\n",
    "plt.hlines(y=0, xmin=0, xmax=70)\n",
    "plt.show()\n"
   ]
  },
  {
   "cell_type": "markdown",
   "metadata": {},
   "source": [
    "## PART D"
   ]
  },
  {
   "cell_type": "markdown",
   "metadata": {},
   "source": [
    "Using the Robust Regression with Huber Loss was a better fit for the data since there were so many outliers. The test RMSE was lower when using the Huber Loss in comparison to normal OLS. As you can see from the residual plots above, there is a data point in the bottom left corner of the OLS residual plot for the blue test data, that shows how off the prediction was from the actual target. In the Huber Loss Residual plot, this problem was not as incorrectly predicted (as the residual was less), and all resdiuals look iid. In general, if your data has a lot of outliers, you should be careful when using OLS becuase it will predict most things accurately, but may throw off the prediction for one or two data points. Outliers in OLS will cause the RMSE to be high, and this can be fixed by using the Robost Regression. "
   ]
  },
  {
   "cell_type": "markdown",
   "metadata": {},
   "source": [
    "# Question 3 - Sampling (4+4=8pts)\n",
    "\n",
    "1. NBC has come up with an extreme TV show, and each of its viewers either likes or hates it. (no middle ground here; we are in a “black and white age”). NBC wants to estimate what fraction p of its audience like the show by “randomly” calling n viewers and tallying their responses so as to estimate the true value of p to a fractional accuracy of within ±ε%, with a confidence of (1 − α) × 100%. For α = 0.10, ε = 0.03 (i.e. your answer will be $\\hat{p}$ ± 0.03), what is the minimum value of n needed if true value (i) p = 0.5, (ii) p=0.25? \n",
    "\n",
    "2. Suppose for a certain value of p and choice of ε, you calculate that you will need 1000 samples for α = 0.02. You now decide to obtain a more accurate answer by either (i) reducing α to 0.01, keeping the same ε or by (ii) reducing ε by a factor of 2 from the original value, and increasing α to 0.05. In each case how many samples would you need now?\n",
    "\n",
    "## Answer"
   ]
  },
  {
   "cell_type": "markdown",
   "metadata": {},
   "source": [
    "$$n=p(1-p)\\frac{Z\\scriptsize\\alpha/2}{\\large\\epsilon}^2$$ \n",
    "\n",
    "#### PART 1\n",
    "When p = .5 , $\\alpha$ = .10 and $\\epsilon$ = .03\n",
    "\n",
    "n = (.5)(1-.5)((1.65/.03)^2)\n",
    "\n",
    "n = 756.25\n",
    "\n",
    "When p = .25 , $\\alpha$ = .10 and $\\epsilon$ = .03\n",
    "\n",
    "n = (.25)(1-.25)((1.65/.03)^2)\n",
    "\n",
    "n = 567.1875\n",
    "\n",
    "#### PART 2\n",
    "<img src=\"http://drive.google.com/uc?export=view&id=0B_t7L4-kEPa9R3hPbno1dU45WE0\">\n",
    "So if you change $\\alpha$ from .02 to .01 and keep $\\epsilon$ the same then your new sample size would be 1000 * (1.226105) = 1226.105.\n",
    "\n",
    "<img src=\"http://drive.google.com/uc?export=view&id=0B_t7L4-kEPa9UGFRVHZBclU0dHc\">\n",
    "\n",
    "So if you change $\\alpha$ from .02 to .05 and reduce $\\epsilon$ by a factor of 2 then the new sample size would be 1000 + 1000 * (1.830481) = 2830.481 .\n",
    "\n"
   ]
  },
  {
   "cell_type": "markdown",
   "metadata": {},
   "source": [
    "# Question 4 - Principal Component Analysis (10 points)\n",
    "\n",
    "Import the diabetes dataset as in Q1 and add the interaction variables.\n",
    "You should have 65 variables and one target variable."
   ]
  },
  {
   "cell_type": "code",
   "execution_count": 67,
   "metadata": {
    "collapsed": true
   },
   "outputs": [],
   "source": [
    "from sklearn import datasets\n",
    "diabetes = datasets.load_diabetes()\n",
    "X = diabetes.data\n",
    "y = diabetes.target\n",
    "\n",
    "from sklearn.preprocessing import PolynomialFeatures\n",
    "X = PolynomialFeatures(2, include_bias=False).fit_transform(X)"
   ]
  },
  {
   "cell_type": "markdown",
   "metadata": {},
   "source": [
    "Next, use [StandardScaler](http://scikit-learn.org/stable/modules/generated/sklearn.preprocessing.StandardScaler.html) to center and scale each feature as follows."
   ]
  },
  {
   "cell_type": "code",
   "execution_count": 68,
   "metadata": {
    "collapsed": true
   },
   "outputs": [],
   "source": [
    "from sklearn.preprocessing import StandardScaler\n",
    "stdScaler = StandardScaler()\n",
    "X = stdScaler.fit_transform(X)"
   ]
  },
  {
   "cell_type": "markdown",
   "metadata": {},
   "source": [
    "(a) Perform PCA using the sklearn [PCA](http://scikit-learn.org/stable/modules/generated/sklearn.decomposition.PCA.html) package.  Create i) a scree plot depicting the proportion of variance and ii) a cumulative proportion of variance explained by the principal components of the data (X matrix).  Refer to Figure 10.4 of JW for an example.  You may use the output attribute *explained variance ratio*. (3pts)\n",
    "\n",
    "(b) How many principal components (N1, N2, N3) are required to explain cumulative variance of 30%, 60%, and 90%, respectively? (3pts)\n",
    "\n",
    "(c) Fit an ordinary least squares linear regression using N1, N2, and N3 number of principal components, respectively. (This is called Principal Components Regression) Use entire dataset, e.g. 442 rows. Evaluate the models using mean squared error (MSE). (4pts)\n",
    "\n",
    "## Answer"
   ]
  },
  {
   "cell_type": "markdown",
   "metadata": {},
   "source": [
    "## PART A"
   ]
  },
  {
   "cell_type": "code",
   "execution_count": 69,
   "metadata": {
    "collapsed": true
   },
   "outputs": [],
   "source": [
    "from sklearn.decomposition import PCA"
   ]
  },
  {
   "cell_type": "code",
   "execution_count": 70,
   "metadata": {
    "collapsed": true
   },
   "outputs": [],
   "source": [
    "pca = PCA(n_components=65)\n",
    "pca.fit(X)\n",
    "varex = pca.explained_variance_ratio_\n",
    "var = np.cumsum(np.round(pca.explained_variance_ratio_, decimals=4))"
   ]
  },
  {
   "cell_type": "code",
   "execution_count": 71,
   "metadata": {},
   "outputs": [
    {
     "data": {
      "text/plain": [
       "[<matplotlib.lines.Line2D at 0x10840e80>]"
      ]
     },
     "execution_count": 71,
     "metadata": {},
     "output_type": "execute_result"
    },
    {
     "data": {
      "image/png": "[encoded data removed]",
      "text/plain": [
       "<matplotlib.figure.Figure at 0x10e87a20>"
      ]
     },
     "metadata": {},
     "output_type": "display_data"
    }
   ],
   "source": [
    "import matplotlib.pyplot as plt\n",
    "%matplotlib inline\n",
    "\n",
    "plt.plot(varex)"
   ]
  },
  {
   "cell_type": "code",
   "execution_count": 72,
   "metadata": {},
   "outputs": [
    {
     "data": {
      "text/plain": [
       "[<matplotlib.lines.Line2D at 0x11303898>]"
      ]
     },
     "execution_count": 72,
     "metadata": {},
     "output_type": "execute_result"
    },
    {
     "data": {
      "image/png": "[encoded data removed]",
      "text/plain": [
       "<matplotlib.figure.Figure at 0xe486c88>"
      ]
     },
     "metadata": {},
     "output_type": "display_data"
    }
   ],
   "source": [
    "plt.plot(var)"
   ]
  },
  {
   "cell_type": "markdown",
   "metadata": {},
   "source": [
    "## PART B"
   ]
  },
  {
   "cell_type": "code",
   "execution_count": 73,
   "metadata": {},
   "outputs": [
    {
     "name": "stdout",
     "output_type": "stream",
     "text": [
      "30% explained with 3 components\n",
      "60% explained with 9 components\n",
      "90% explained with 27 components\n"
     ]
    }
   ],
   "source": [
    "def find_closest(A, target):\n",
    "    #A must be sorted\n",
    "    idx = A.searchsorted(target)\n",
    "    idx = np.clip(idx, 1, len(A)-1)\n",
    "    left = A[idx-1]\n",
    "    right = A[idx]\n",
    "    idx -= target - left < right - target\n",
    "    return idx\n",
    "\n",
    "var30 = find_closest(var, 0.3) + 1\n",
    "var60 = find_closest(var, 0.6) + 1\n",
    "var90 = find_closest(var, 0.9) + 1\n",
    "print \"30% explained with\", var30, \"components\"\n",
    "print \"60% explained with\", var60, \"components\"\n",
    "print \"90% explained with\", var90, \"components\""
   ]
  },
  {
   "cell_type": "markdown",
   "metadata": {},
   "source": [
    "## PART C"
   ]
  },
  {
   "cell_type": "code",
   "execution_count": 74,
   "metadata": {},
   "outputs": [
    {
     "name": "stdout",
     "output_type": "stream",
     "text": [
      "The mean squared error for training/training is:  5120.60554779\n",
      "The root mean squared error for training/training is:  71.5584065487\n"
     ]
    }
   ],
   "source": [
    "pca = PCA(n_components=3)\n",
    "X_pca = pca.fit_transform(X)\n",
    "\n",
    "lm = linear_model.LinearRegression()\n",
    "model = lm.fit(X_pca,y)\n",
    "\n",
    "prediction = lm.predict(X_pca)\n",
    "\n",
    "print \"The mean squared error for training/training is: \" , (mean_squared_error(y, prediction))\n",
    "print \"The root mean squared error for training/training is: \" , np.sqrt(mean_squared_error(y, prediction))"
   ]
  },
  {
   "cell_type": "code",
   "execution_count": 75,
   "metadata": {},
   "outputs": [
    {
     "name": "stdout",
     "output_type": "stream",
     "text": [
      "The mean squared error for training/training is:  3942.78675143\n",
      "The root mean squared error for training/training is:  62.791613703\n"
     ]
    }
   ],
   "source": [
    "pca = PCA(n_components=9)\n",
    "X_pca = pca.fit_transform(X)\n",
    "\n",
    "lm = linear_model.LinearRegression()\n",
    "model = lm.fit(X_pca,y)\n",
    "\n",
    "prediction = lm.predict(X_pca)\n",
    "\n",
    "print \"The mean squared error for training/training is: \" , (mean_squared_error(y, prediction))\n",
    "print \"The root mean squared error for training/training is: \" , np.sqrt(mean_squared_error(y, prediction))"
   ]
  },
  {
   "cell_type": "code",
   "execution_count": 76,
   "metadata": {},
   "outputs": [
    {
     "name": "stdout",
     "output_type": "stream",
     "text": [
      "The mean squared error for training/training is:  2857.425949\n",
      "The root mean squared error for training/training is:  53.4548963987\n"
     ]
    }
   ],
   "source": [
    "pca = PCA(n_components=27)\n",
    "X_pca = pca.fit_transform(X)\n",
    "\n",
    "lm = linear_model.LinearRegression()\n",
    "model = lm.fit(X_pca,y)\n",
    "\n",
    "prediction = lm.predict(X_pca)\n",
    "\n",
    "print \"The mean squared error for training/training is: \" , (mean_squared_error(y, prediction))\n",
    "print \"The root mean squared error for training/training is: \" , np.sqrt(mean_squared_error(y, prediction))"
   ]
  },
  {
   "cell_type": "markdown",
   "metadata": {},
   "source": [
    "As you increase the number of components used in the Linear Regression, the MSE decreases dramatically. The biggest decrease is from N=3 components to N=9 components as the MSE drops from 5120 to 3942. Then when you increase components from N=9 to N=27, the MSE decreases from 3942 to 2857, which is still significant showing that in this case a large amount of components can dramtically reduce the MSE and account for most of the variability in the model."
   ]
  },
  {
   "cell_type": "markdown",
   "metadata": {},
   "source": [
    "# Question 5 -  Feature Selection ( 5 points )\n",
    "\n",
    "Explain what you understand by the two wrapper methods for feature selection (forward and backward selection) (no more than 1 paragraph). "
   ]
  },
  {
   "cell_type": "markdown",
   "metadata": {},
   "source": [
    "In wrapper methods wee try to use a subset of features and train a model using them. Based on the inferences we draw from the previous model (test score), we decide to add or remove features from the subset. These methods can be computationally expensive. Forward selection is an iterative method in which we start with having no features in the model. In each iteration, we keep adding the feature which best improves our model until an addition of a new variable does not improve the performance of the model. In backward elimination, we start with all the features and removes the least significant feature at each iteration which improves the performance of the model. We repeat this until no improvement is observed on removal of features."
   ]
  }
 ],
 "metadata": {
  "anaconda-cloud": {},
  "kernelspec": {
   "display_name": "Python 2",
   "language": "python",
   "name": "python2"
  },
  "language_info": {
   "codemirror_mode": {
    "name": "ipython",
    "version": 2
   },
   "file_extension": ".py",
   "mimetype": "text/x-python",
   "name": "python",
   "nbconvert_exporter": "python",
   "pygments_lexer": "ipython2",
   "version": "2.7.13"
  }
 },
 "nbformat": 4,
 "nbformat_minor": 1
}
