{
 "cells": [
  {
   "cell_type": "markdown",
   "metadata": {},
   "source": [
    "## **Text Analytics Assignment 1**"
   ]
  },
  {
   "cell_type": "code",
   "execution_count": 1,
   "metadata": {},
   "outputs": [
    {
     "name": "stdout",
     "output_type": "stream",
     "text": [
      "Populating the interactive namespace from numpy and matplotlib\n"
     ]
    }
   ],
   "source": [
    "from pandas import Series, DataFrame\n",
    "import pandas as pd\n",
    "%pylab inline\n",
    "import numpy as np\n",
    "import csv\n",
    "import nltk\n",
    "from nltk import word_tokenize\n",
    "from nltk import pos_tag\n",
    "from nltk.corpus import stopwords\n",
    "from nltk.stem.wordnet import WordNetLemmatizer\n",
    "import re\n",
    "import math"
   ]
  },
  {
   "cell_type": "markdown",
   "metadata": {},
   "source": [
    "**A1. What are the top 5 parts of speech in this corpus of job descriptions? How frequently do they appear?**"
   ]
  },
  {
   "cell_type": "code",
   "execution_count": 2,
   "metadata": {
    "collapsed": true
   },
   "outputs": [],
   "source": [
    "realdata = pd.read_csv('Train_rev1.csv', dtype=unicode, encoding='utf-8')\n",
    "smallset = realdata.sample(n=10000)\n",
    "#randomly picking 10,000 data points\n",
    "\n",
    "token = smallset['FullDescription'].map(nltk.word_tokenize)\n",
    "speechtypes = token.map(nltk.pos_tag)\n",
    "dfList = speechtypes.tolist()\n",
    "flat_list = [item for sublist in dfList for item in sublist]"
   ]
  },
  {
   "cell_type": "code",
   "execution_count": 3,
   "metadata": {
    "collapsed": true
   },
   "outputs": [],
   "source": [
    "from collections import Counter\n",
    "import operator\n",
    "\n",
    "counts = Counter(tag for word,tag in flat_list)\n",
    "sorted_counts = sorted(counts.items(), key=operator.itemgetter(1))\n",
    "dfcounts = pd.DataFrame(sorted_counts)"
   ]
  },
  {
   "cell_type": "code",
   "execution_count": 4,
   "metadata": {},
   "outputs": [
    {
     "data": {
      "text/html": [
       "<div>\n",
       "<style>\n",
       "    .dataframe thead tr:only-child th {\n",
       "        text-align: right;\n",
       "    }\n",
       "\n",
       "    .dataframe thead th {\n",
       "        text-align: left;\n",
       "    }\n",
       "\n",
       "    .dataframe tbody tr th {\n",
       "        vertical-align: top;\n",
       "    }\n",
       "</style>\n",
       "<table border=\"1\" class=\"dataframe\">\n",
       "  <thead>\n",
       "    <tr style=\"text-align: right;\">\n",
       "      <th></th>\n",
       "      <th>0</th>\n",
       "      <th>1</th>\n",
       "      <th>Freq</th>\n",
       "    </tr>\n",
       "  </thead>\n",
       "  <tbody>\n",
       "    <tr>\n",
       "      <th>37</th>\n",
       "      <td>DT</td>\n",
       "      <td>201986</td>\n",
       "      <td>0.075349</td>\n",
       "    </tr>\n",
       "    <tr>\n",
       "      <th>38</th>\n",
       "      <td>JJ</td>\n",
       "      <td>217249</td>\n",
       "      <td>0.081043</td>\n",
       "    </tr>\n",
       "    <tr>\n",
       "      <th>39</th>\n",
       "      <td>IN</td>\n",
       "      <td>258674</td>\n",
       "      <td>0.096496</td>\n",
       "    </tr>\n",
       "    <tr>\n",
       "      <th>40</th>\n",
       "      <td>NNP</td>\n",
       "      <td>337560</td>\n",
       "      <td>0.125924</td>\n",
       "    </tr>\n",
       "    <tr>\n",
       "      <th>41</th>\n",
       "      <td>NN</td>\n",
       "      <td>460098</td>\n",
       "      <td>0.171636</td>\n",
       "    </tr>\n",
       "  </tbody>\n",
       "</table>\n",
       "</div>"
      ],
      "text/plain": [
       "      0       1      Freq\n",
       "37   DT  201986  0.075349\n",
       "38   JJ  217249  0.081043\n",
       "39   IN  258674  0.096496\n",
       "40  NNP  337560  0.125924\n",
       "41   NN  460098  0.171636"
      ]
     },
     "execution_count": 4,
     "metadata": {},
     "output_type": "execute_result"
    }
   ],
   "source": [
    "dfcounts['Freq'] = dfcounts[1]/ dfcounts[1].sum()\n",
    "dfcounts[-5:]\n"
   ]
  },
  {
   "cell_type": "markdown",
   "metadata": {},
   "source": [
    "**A2. Does this corpus support Zipf’s law? Plot the most common 100 words in the corpus against the theoretical prediction of the law. For this question, do not remove stopwords. Also do not perform stemming or lemmatization.**\n"
   ]
  },
  {
   "cell_type": "code",
   "execution_count": 5,
   "metadata": {},
   "outputs": [
    {
     "data": {
      "text/html": [
       "<div>\n",
       "<style>\n",
       "    .dataframe thead tr:only-child th {\n",
       "        text-align: right;\n",
       "    }\n",
       "\n",
       "    .dataframe thead th {\n",
       "        text-align: left;\n",
       "    }\n",
       "\n",
       "    .dataframe tbody tr th {\n",
       "        vertical-align: top;\n",
       "    }\n",
       "</style>\n",
       "<table border=\"1\" class=\"dataframe\">\n",
       "  <thead>\n",
       "    <tr style=\"text-align: right;\">\n",
       "      <th></th>\n",
       "      <th>words</th>\n",
       "      <th>count</th>\n",
       "      <th>Rank</th>\n",
       "    </tr>\n",
       "  </thead>\n",
       "  <tbody>\n",
       "    <tr>\n",
       "      <th>0</th>\n",
       "      <td>and</td>\n",
       "      <td>107779</td>\n",
       "      <td>1</td>\n",
       "    </tr>\n",
       "    <tr>\n",
       "      <th>1</th>\n",
       "      <td>,</td>\n",
       "      <td>93892</td>\n",
       "      <td>2</td>\n",
       "    </tr>\n",
       "    <tr>\n",
       "      <th>2</th>\n",
       "      <td>.</td>\n",
       "      <td>86736</td>\n",
       "      <td>3</td>\n",
       "    </tr>\n",
       "    <tr>\n",
       "      <th>3</th>\n",
       "      <td>the</td>\n",
       "      <td>85291</td>\n",
       "      <td>4</td>\n",
       "    </tr>\n",
       "    <tr>\n",
       "      <th>4</th>\n",
       "      <td>to</td>\n",
       "      <td>82283</td>\n",
       "      <td>5</td>\n",
       "    </tr>\n",
       "    <tr>\n",
       "      <th>5</th>\n",
       "      <td>a</td>\n",
       "      <td>61281</td>\n",
       "      <td>6</td>\n",
       "    </tr>\n",
       "    <tr>\n",
       "      <th>6</th>\n",
       "      <td>of</td>\n",
       "      <td>57837</td>\n",
       "      <td>7</td>\n",
       "    </tr>\n",
       "    <tr>\n",
       "      <th>7</th>\n",
       "      <td>in</td>\n",
       "      <td>41748</td>\n",
       "      <td>8</td>\n",
       "    </tr>\n",
       "    <tr>\n",
       "      <th>8</th>\n",
       "      <td>for</td>\n",
       "      <td>34800</td>\n",
       "      <td>9</td>\n",
       "    </tr>\n",
       "    <tr>\n",
       "      <th>9</th>\n",
       "      <td>with</td>\n",
       "      <td>29551</td>\n",
       "      <td>10</td>\n",
       "    </tr>\n",
       "  </tbody>\n",
       "</table>\n",
       "</div>"
      ],
      "text/plain": [
       "  words   count  Rank\n",
       "0   and  107779     1\n",
       "1     ,   93892     2\n",
       "2     .   86736     3\n",
       "3   the   85291     4\n",
       "4    to   82283     5\n",
       "5     a   61281     6\n",
       "6    of   57837     7\n",
       "7    in   41748     8\n",
       "8   for   34800     9\n",
       "9  with   29551    10"
      ]
     },
     "execution_count": 5,
     "metadata": {},
     "output_type": "execute_result"
    }
   ],
   "source": [
    "from nltk import FreqDist\n",
    "\n",
    "token_list = [item for sublist in token for item in sublist]\n",
    "\n",
    "#find the frequency top 100 words\n",
    "fdist1 = FreqDist(w.lower() for w in token_list)\n",
    "data = fdist1.most_common(100)\n",
    "df = pd.DataFrame(data)\n",
    "df.columns= ['words', 'count']\n",
    "\n",
    "#sort the dataframe and find frequency and zip's law\n",
    "sorteddf = df.sort_values(by='count', ascending=False)\n",
    "sorteddf['Rank'] = sorteddf.index + 1\n",
    "sorteddf[:10]"
   ]
  },
  {
   "cell_type": "code",
   "execution_count": 6,
   "metadata": {},
   "outputs": [
    {
     "data": {
      "text/plain": [
       "<matplotlib.text.Text at 0x1357338d0>"
      ]
     },
     "execution_count": 6,
     "metadata": {},
     "output_type": "execute_result"
    },
    {
     "data": {
      "image/png": "[encoded data removed]",
      "text/plain": [
       "<matplotlib.figure.Figure at 0x1130df950>"
      ]
     },
     "metadata": {},
     "output_type": "display_data"
    }
   ],
   "source": [
    "ax = sorteddf.plot(kind='scatter', x='Rank', y='count')\n",
    "ax.set_xlabel(\"Rank\")\n",
    "ax.set_ylabel(\"Count\")"
   ]
  },
  {
   "cell_type": "code",
   "execution_count": 7,
   "metadata": {},
   "outputs": [
    {
     "data": {
      "image/png": "[encoded data removed]",
      "text/plain": [
       "<matplotlib.figure.Figure at 0x138b3a110>"
      ]
     },
     "metadata": {},
     "output_type": "display_data"
    }
   ],
   "source": [
    "x = np.log(sorteddf['Rank'])\n",
    "y = np.log(sorteddf['count'])\n",
    "\n",
    "fit = np.polyfit(x, y, deg = 1)\n",
    "fitted = fit[0] * x + fit[1]\n",
    "\n",
    "plt.figure(figsize=(10,8))\n",
    "plt.plot(x, y, 'bo', alpha = 0.5)\n",
    "plt.plot(x,fitted,'r')\n",
    "\n",
    "plt.title('Top 100 common words compared to Zipf\\'s Law\\n')\n",
    "plt.xlabel('Log(Rank)')\n",
    "plt.ylabel('Log(Count)')\n",
    "plt.legend(['Top 100 words','Zipf\\'s Law'])\n",
    "\n",
    "plt.show()"
   ]
  },
  {
   "cell_type": "markdown",
   "metadata": {},
   "source": [
    "**A3. If we remove stopwords and lemmatize the corpus, what are the 10 most common words? What are their frequencies?**"
   ]
  },
  {
   "cell_type": "code",
   "execution_count": 8,
   "metadata": {
    "collapsed": true
   },
   "outputs": [],
   "source": [
    "from nltk.tokenize import word_tokenize\n",
    "from nltk.corpus import stopwords\n",
    "\n",
    "#removing stopwords\n",
    "stopset = set(stopwords.words('english'))\n",
    "#stopset.update(['.', ',', '\"', \"'\", '?', '!', ':', ';', '(', ')', '[', ']', '{', '}'])\n",
    "\n",
    "tokens = [w.lower() for w in token_list if not w.lower() in stopset]"
   ]
  },
  {
   "cell_type": "code",
   "execution_count": 9,
   "metadata": {
    "collapsed": true
   },
   "outputs": [],
   "source": [
    "#lemmatization\n",
    "from nltk.stem import WordNetLemmatizer\n",
    "\n",
    "results = []\n",
    "\n",
    "lemma = WordNetLemmatizer()\n",
    "\n",
    "for i in tokens:\n",
    "    new = lemma.lemmatize(i)\n",
    "    results.append(new)"
   ]
  },
  {
   "cell_type": "code",
   "execution_count": 10,
   "metadata": {},
   "outputs": [
    {
     "data": {
      "text/html": [
       "<div>\n",
       "<style>\n",
       "    .dataframe thead tr:only-child th {\n",
       "        text-align: right;\n",
       "    }\n",
       "\n",
       "    .dataframe thead th {\n",
       "        text-align: left;\n",
       "    }\n",
       "\n",
       "    .dataframe tbody tr th {\n",
       "        vertical-align: top;\n",
       "    }\n",
       "</style>\n",
       "<table border=\"1\" class=\"dataframe\">\n",
       "  <thead>\n",
       "    <tr style=\"text-align: right;\">\n",
       "      <th></th>\n",
       "      <th>words</th>\n",
       "      <th>count</th>\n",
       "      <th>Frequency</th>\n",
       "    </tr>\n",
       "  </thead>\n",
       "  <tbody>\n",
       "    <tr>\n",
       "      <th>0</th>\n",
       "      <td>,</td>\n",
       "      <td>93892</td>\n",
       "      <td>0.053005</td>\n",
       "    </tr>\n",
       "    <tr>\n",
       "      <th>1</th>\n",
       "      <td>.</td>\n",
       "      <td>86736</td>\n",
       "      <td>0.048965</td>\n",
       "    </tr>\n",
       "    <tr>\n",
       "      <th>2</th>\n",
       "      <td>****</td>\n",
       "      <td>19077</td>\n",
       "      <td>0.010770</td>\n",
       "    </tr>\n",
       "    <tr>\n",
       "      <th>3</th>\n",
       "      <td>:</td>\n",
       "      <td>17220</td>\n",
       "      <td>0.009721</td>\n",
       "    </tr>\n",
       "    <tr>\n",
       "      <th>4</th>\n",
       "      <td>experience</td>\n",
       "      <td>17198</td>\n",
       "      <td>0.009709</td>\n",
       "    </tr>\n",
       "    <tr>\n",
       "      <th>5</th>\n",
       "      <td>role</td>\n",
       "      <td>12656</td>\n",
       "      <td>0.007145</td>\n",
       "    </tr>\n",
       "    <tr>\n",
       "      <th>6</th>\n",
       "      <td>team</td>\n",
       "      <td>12143</td>\n",
       "      <td>0.006855</td>\n",
       "    </tr>\n",
       "    <tr>\n",
       "      <th>7</th>\n",
       "      <td>work</td>\n",
       "      <td>11720</td>\n",
       "      <td>0.006616</td>\n",
       "    </tr>\n",
       "    <tr>\n",
       "      <th>8</th>\n",
       "      <td>client</td>\n",
       "      <td>11446</td>\n",
       "      <td>0.006462</td>\n",
       "    </tr>\n",
       "    <tr>\n",
       "      <th>9</th>\n",
       "      <td>business</td>\n",
       "      <td>11331</td>\n",
       "      <td>0.006397</td>\n",
       "    </tr>\n",
       "  </tbody>\n",
       "</table>\n",
       "</div>"
      ],
      "text/plain": [
       "        words  count  Frequency\n",
       "0           ,  93892   0.053005\n",
       "1           .  86736   0.048965\n",
       "2        ****  19077   0.010770\n",
       "3           :  17220   0.009721\n",
       "4  experience  17198   0.009709\n",
       "5        role  12656   0.007145\n",
       "6        team  12143   0.006855\n",
       "7        work  11720   0.006616\n",
       "8      client  11446   0.006462\n",
       "9    business  11331   0.006397"
      ]
     },
     "execution_count": 10,
     "metadata": {},
     "output_type": "execute_result"
    }
   ],
   "source": [
    "from nltk import FreqDist\n",
    "\n",
    "fdist1 = FreqDist(w for w in results)\n",
    "datalemmastop = fdist1.most_common(10)\n",
    "dflemmastop = pd.DataFrame(datalemmastop)\n",
    "dflemmastop.columns= ['words', 'count']\n",
    "dflemmastop['Frequency'] = dflemmastop['count']/ len(results)\n",
    "dflemmastop"
   ]
  },
  {
   "cell_type": "markdown",
   "metadata": {},
   "source": [
    "**B1. Create a classification model with all words and the bag-of-words approach. How accurate is the model (show the confusion matrix)? **\n"
   ]
  },
  {
   "cell_type": "code",
   "execution_count": 11,
   "metadata": {
    "collapsed": true
   },
   "outputs": [],
   "source": [
    "data = pd.read_csv(\"Train_rev1.csv\")\n",
    "sample = data.sample(10000, replace=False).copy()"
   ]
  },
  {
   "cell_type": "code",
   "execution_count": 12,
   "metadata": {},
   "outputs": [
    {
     "name": "stderr",
     "output_type": "stream",
     "text": [
      "/Users/shirley/anaconda/lib/python2.7/site-packages/ipykernel_launcher.py:6: SettingWithCopyWarning: \n",
      "A value is trying to be set on a copy of a slice from a DataFrame\n",
      "\n",
      "See the caveats in the documentation: http://pandas.pydata.org/pandas-docs/stable/indexing.html#indexing-view-versus-copy\n",
      "  \n"
     ]
    }
   ],
   "source": [
    "salary = sample['SalaryNormalized']\n",
    "top75 = np.percentile(salary, 75)\n",
    "\n",
    "sample['target'] = 0.0\n",
    "mask = sample['SalaryNormalized'] >= top75\n",
    "sample['target'][mask]= 1"
   ]
  },
  {
   "cell_type": "code",
   "execution_count": 13,
   "metadata": {
    "collapsed": true
   },
   "outputs": [],
   "source": [
    "from sklearn.naive_bayes import MultinomialNB\n",
    "from sklearn.feature_extraction.text import CountVectorizer\n",
    "from sklearn import metrics\n",
    "from sklearn.metrics import confusion_matrix"
   ]
  },
  {
   "cell_type": "code",
   "execution_count": 14,
   "metadata": {
    "collapsed": true
   },
   "outputs": [],
   "source": [
    "#split data into testing and training setup\n",
    "train = sample.sample(int(.8*len(sample)), replace=False).copy()\n",
    "test = sample[~sample.index.isin(train.index.values)]\n",
    "\n",
    "train_x = train['FullDescription']\n",
    "train_y = train['target']\n",
    "\n",
    "test_x = test['FullDescription']\n",
    "test_y = test['target']\n",
    "\n",
    "vectorizer = CountVectorizer(analyzer = \"word\",   \\\n",
    "                             tokenizer = None,    \\\n",
    "                             preprocessor = None, \\\n",
    "                             stop_words = None,   \\\n",
    "                             max_features = None, lowercase=True)\n",
    "\n",
    "train_x = vectorizer.fit_transform(train_x)\n",
    "test_x = vectorizer.transform(test_x)"
   ]
  },
  {
   "cell_type": "code",
   "execution_count": 15,
   "metadata": {},
   "outputs": [
    {
     "name": "stdout",
     "output_type": "stream",
     "text": [
      "Accuracy: 0.7785\n"
     ]
    },
    {
     "data": {
      "text/html": [
       "<div>\n",
       "<style>\n",
       "    .dataframe thead tr:only-child th {\n",
       "        text-align: right;\n",
       "    }\n",
       "\n",
       "    .dataframe thead th {\n",
       "        text-align: left;\n",
       "    }\n",
       "\n",
       "    .dataframe tbody tr th {\n",
       "        vertical-align: top;\n",
       "    }\n",
       "</style>\n",
       "<table border=\"1\" class=\"dataframe\">\n",
       "  <thead>\n",
       "    <tr style=\"text-align: right;\">\n",
       "      <th>Predicted</th>\n",
       "      <th>0.0</th>\n",
       "      <th>1.0</th>\n",
       "    </tr>\n",
       "    <tr>\n",
       "      <th>True</th>\n",
       "      <th></th>\n",
       "      <th></th>\n",
       "    </tr>\n",
       "  </thead>\n",
       "  <tbody>\n",
       "    <tr>\n",
       "      <th>0.0</th>\n",
       "      <td>1203</td>\n",
       "      <td>284</td>\n",
       "    </tr>\n",
       "    <tr>\n",
       "      <th>1.0</th>\n",
       "      <td>159</td>\n",
       "      <td>354</td>\n",
       "    </tr>\n",
       "  </tbody>\n",
       "</table>\n",
       "</div>"
      ],
      "text/plain": [
       "Predicted   0.0  1.0\n",
       "True                \n",
       "0.0        1203  284\n",
       "1.0         159  354"
      ]
     },
     "execution_count": 15,
     "metadata": {},
     "output_type": "execute_result"
    }
   ],
   "source": [
    "#train the model\n",
    "model = MultinomialNB().fit(train_x, train_y)\n",
    "\n",
    "#get the predictions from the model\n",
    "predicted = model.predict(test_x)\n",
    "\n",
    "print 'Accuracy: '+ str(metrics.accuracy_score(test_y, predicted))\n",
    "mat = pd.crosstab(test_y, predicted, rownames=['True'], colnames=['Predicted'], margins=False)\n",
    "mat # in our case 1 is high and 0 is low"
   ]
  },
  {
   "cell_type": "markdown",
   "metadata": {},
   "source": [
    "**B2. Speculate before running the following analysis whether lemmatization would help improve the accuracy of classification. Now create a classification model after lemmatization. Did the classification accuracy increase relative to B1? Comment on your speculation versus the actual results you obtained. **"
   ]
  },
  {
   "cell_type": "markdown",
   "metadata": {},
   "source": [
    "We believe that lemmatization will make an impact on the classification accuracy since it can reduce the number of words as well as reduce inflectional forms and sometimes derivationally related forms of a word to a common base form."
   ]
  },
  {
   "cell_type": "code",
   "execution_count": 16,
   "metadata": {
    "collapsed": true
   },
   "outputs": [],
   "source": [
    "#split data into testing and training setup\n",
    "train = sample.sample(int(.8*len(sample)), replace=False).copy()\n",
    "test = sample[~sample.index.isin(train.index.values)]\n",
    "\n",
    "train_x = train['FullDescription']\n",
    "train_y = train['target']\n",
    "\n",
    "test_x = test['FullDescription']\n",
    "test_y = test['target']\n",
    "\n",
    "lemmatizer=WordNetLemmatizer()\n",
    "\n",
    "def tokenize(text):\n",
    "    tokens = nltk.word_tokenize(text)\n",
    "    lemmas = []\n",
    "    for item in tokens:\n",
    "        lemmas.append(lemmatizer.lemmatize(item))\n",
    "    return lemmas\n",
    "\n",
    "vectorizer = CountVectorizer(analyzer = \"word\",   \\\n",
    "                             tokenizer = tokenize,    \\\n",
    "                             preprocessor = None, \\\n",
    "                             stop_words = None,   \\\n",
    "                             max_features = None, lowercase=True)\n",
    "\n",
    "\n",
    "train_x = vectorizer.fit_transform(train_x)\n",
    "test_x = vectorizer.transform(test_x)"
   ]
  },
  {
   "cell_type": "code",
   "execution_count": 17,
   "metadata": {},
   "outputs": [
    {
     "name": "stdout",
     "output_type": "stream",
     "text": [
      "Accuracy: 0.784\n"
     ]
    },
    {
     "data": {
      "text/html": [
       "<div>\n",
       "<style>\n",
       "    .dataframe thead tr:only-child th {\n",
       "        text-align: right;\n",
       "    }\n",
       "\n",
       "    .dataframe thead th {\n",
       "        text-align: left;\n",
       "    }\n",
       "\n",
       "    .dataframe tbody tr th {\n",
       "        vertical-align: top;\n",
       "    }\n",
       "</style>\n",
       "<table border=\"1\" class=\"dataframe\">\n",
       "  <thead>\n",
       "    <tr style=\"text-align: right;\">\n",
       "      <th></th>\n",
       "      <th>Predicted  0</th>\n",
       "      <th>1</th>\n",
       "    </tr>\n",
       "    <tr>\n",
       "      <th>True</th>\n",
       "      <th></th>\n",
       "      <th></th>\n",
       "    </tr>\n",
       "  </thead>\n",
       "  <tbody>\n",
       "    <tr>\n",
       "      <th>0</th>\n",
       "      <td>1234</td>\n",
       "      <td>262</td>\n",
       "    </tr>\n",
       "    <tr>\n",
       "      <th>1</th>\n",
       "      <td>170</td>\n",
       "      <td>334</td>\n",
       "    </tr>\n",
       "  </tbody>\n",
       "</table>\n",
       "</div>"
      ],
      "text/plain": [
       "      Predicted  0    1\n",
       "True                   \n",
       "0             1234  262\n",
       "1              170  334"
      ]
     },
     "execution_count": 17,
     "metadata": {},
     "output_type": "execute_result"
    }
   ],
   "source": [
    "#train the model\n",
    "model = MultinomialNB().fit(train_x, train_y)\n",
    "\n",
    "#get the predictions from the model\n",
    "predicted = model.predict(test_x)\n",
    "\n",
    "print 'Accuracy: '+ str(metrics.accuracy_score(test_y, predicted))\n",
    "df = pd.DataFrame(confusion_matrix(test_y, predicted))\n",
    "df.index.name = 'True'\n",
    "df.columns = ['Predicted  0', '1']\n",
    "df# in our case 1 is high and 0 is low"
   ]
  },
  {
   "cell_type": "markdown",
   "metadata": {},
   "source": [
    "Just like our suspicions, lemmatization increased our classification accuracy rate in regards to our first approach by about 1%. This is a very marginal effect though, so it does not make much of a difference whether you choose to lemmatize the words or not."
   ]
  },
  {
   "cell_type": "markdown",
   "metadata": {},
   "source": [
    "**B3. Now speculate whether stopwords removal from the original data would help increase the accuracy of the model. Take out the stopwords (but do not lemmatize), build a classification model and check the accuracy, and compare with that in B1 & B2.**"
   ]
  },
  {
   "cell_type": "markdown",
   "metadata": {},
   "source": [
    "We believe that removing stopwords will increase the acuracy since stop words are not needed or useful to predict a jobs salary."
   ]
  },
  {
   "cell_type": "code",
   "execution_count": 18,
   "metadata": {},
   "outputs": [
    {
     "name": "stdout",
     "output_type": "stream",
     "text": [
      "Accuracy: 0.82\n"
     ]
    },
    {
     "data": {
      "text/html": [
       "<div>\n",
       "<style>\n",
       "    .dataframe thead tr:only-child th {\n",
       "        text-align: right;\n",
       "    }\n",
       "\n",
       "    .dataframe thead th {\n",
       "        text-align: left;\n",
       "    }\n",
       "\n",
       "    .dataframe tbody tr th {\n",
       "        vertical-align: top;\n",
       "    }\n",
       "</style>\n",
       "<table border=\"1\" class=\"dataframe\">\n",
       "  <thead>\n",
       "    <tr style=\"text-align: right;\">\n",
       "      <th>Predicted</th>\n",
       "      <th>0.0</th>\n",
       "      <th>1.0</th>\n",
       "    </tr>\n",
       "    <tr>\n",
       "      <th>True</th>\n",
       "      <th></th>\n",
       "      <th></th>\n",
       "    </tr>\n",
       "  </thead>\n",
       "  <tbody>\n",
       "    <tr>\n",
       "      <th>0.0</th>\n",
       "      <td>1260</td>\n",
       "      <td>212</td>\n",
       "    </tr>\n",
       "    <tr>\n",
       "      <th>1.0</th>\n",
       "      <td>148</td>\n",
       "      <td>380</td>\n",
       "    </tr>\n",
       "  </tbody>\n",
       "</table>\n",
       "</div>"
      ],
      "text/plain": [
       "Predicted   0.0  1.0\n",
       "True                \n",
       "0.0        1260  212\n",
       "1.0         148  380"
      ]
     },
     "execution_count": 18,
     "metadata": {},
     "output_type": "execute_result"
    }
   ],
   "source": [
    "#split data into testing and training setup\n",
    "train = sample.sample(int(.8*len(sample)), replace=False).copy()\n",
    "test = sample[~sample.index.isin(train.index.values)]\n",
    "\n",
    "train_x = train['FullDescription']\n",
    "train_y = train['target']\n",
    "\n",
    "test_x = test['FullDescription']\n",
    "test_y = test['target']\n",
    "\n",
    "vectorizerstop = CountVectorizer(analyzer = \"word\",   \\\n",
    "                             tokenizer = None,    \\\n",
    "                             preprocessor = None, \\\n",
    "                             stop_words = 'english',   \\\n",
    "                             max_features = None, lowercase=True)\n",
    "\n",
    "train_x = vectorizerstop.fit_transform(train_x)\n",
    "test_x = vectorizerstop.transform(test_x)\n",
    "\n",
    "#train the model\n",
    "model = MultinomialNB().fit(train_x, train_y)\n",
    "\n",
    "#get the predictions from the model\n",
    "predicted = model.predict(test_x)\n",
    "\n",
    "print 'Accuracy: '+ str(metrics.accuracy_score(test_y, predicted))\n",
    "mat = pd.crosstab(test_y, predicted, rownames=['True'], colnames=['Predicted'], margins=False)\n",
    "mat # in our case 1 is high and 0 is low"
   ]
  },
  {
   "cell_type": "markdown",
   "metadata": {},
   "source": [
    "The accuracy is marginally higher depending on the sample, about ~4% higher for removing stop words. Stop words are not the most important features in predicting Salary, therefore they will not have a big effect whether you remove them or not, nor did lemmitization. But since they are less important, removing them will increase the prediction accuracy."
   ]
  },
  {
   "cell_type": "markdown",
   "metadata": {},
   "source": [
    "**Also show the top 10 words (excluding stopwords) that are most indicative of (i) high salary, and (ii) low salary. **"
   ]
  },
  {
   "cell_type": "code",
   "execution_count": 19,
   "metadata": {},
   "outputs": [
    {
     "name": "stdout",
     "output_type": "stream",
     "text": [
      "\t-12.7200\t00025          \t\t-4.3588\texperience     \n",
      "\t-12.7200\t00028          \t\t-4.7126\tbusiness       \n",
      "\t-12.7200\t001            \t\t-4.8872\trole           \n",
      "\t-12.7200\t0016           \t\t-4.9293\tteam           \n",
      "\t-12.7200\t0018           \t\t-4.9987\tmanagement     \n",
      "\t-12.7200\t00am17         \t\t-5.1047\twork           \n",
      "\t-12.7200\t00am4          \t\t-5.1322\tskills         \n",
      "\t-12.7200\t00am5          \t\t-5.1475\tdevelopment    \n",
      "\t-12.7200\t00hrs          \t\t-5.2025\tclient         \n",
      "\t-12.7200\t00m            \t\t-5.2256\tmanager        \n"
     ]
    }
   ],
   "source": [
    "def show_most_informative_features(vectorizer, clf, n):\n",
    "    feature_names = vectorizer.get_feature_names()\n",
    "    coefs_with_fns = sorted(zip(clf.coef_[0], feature_names))\n",
    "    top = zip(coefs_with_fns[:n], coefs_with_fns[:-(n + 1):-1])\n",
    "    for (coef_1, fn_1), (coef_2, fn_2) in top:\n",
    "        print \"\\t%.4f\\t%-15s\\t\\t%.4f\\t%-15s\" % (coef_1, fn_1, coef_2, fn_2)\n",
    "        \n",
    "show_most_informative_features(vectorizerstop, model, 10)"
   ]
  },
  {
   "cell_type": "markdown",
   "metadata": {},
   "source": [
    "**B4.  Use the job descriptions without lemmatiztion and stopword removal. Add parts-of-speech bigrams to the bag-of-words, and run a new classification model. Does the accuracy increase over the results in B1?**"
   ]
  },
  {
   "cell_type": "code",
   "execution_count": 20,
   "metadata": {},
   "outputs": [
    {
     "name": "stdout",
     "output_type": "stream",
     "text": [
      "Accuracy: 0.671\n"
     ]
    },
    {
     "data": {
      "text/html": [
       "<div>\n",
       "<style>\n",
       "    .dataframe thead tr:only-child th {\n",
       "        text-align: right;\n",
       "    }\n",
       "\n",
       "    .dataframe thead th {\n",
       "        text-align: left;\n",
       "    }\n",
       "\n",
       "    .dataframe tbody tr th {\n",
       "        vertical-align: top;\n",
       "    }\n",
       "</style>\n",
       "<table border=\"1\" class=\"dataframe\">\n",
       "  <thead>\n",
       "    <tr style=\"text-align: right;\">\n",
       "      <th>Predicted</th>\n",
       "      <th>0.0</th>\n",
       "      <th>1.0</th>\n",
       "    </tr>\n",
       "    <tr>\n",
       "      <th>True</th>\n",
       "      <th></th>\n",
       "      <th></th>\n",
       "    </tr>\n",
       "  </thead>\n",
       "  <tbody>\n",
       "    <tr>\n",
       "      <th>0.0</th>\n",
       "      <td>1083</td>\n",
       "      <td>397</td>\n",
       "    </tr>\n",
       "    <tr>\n",
       "      <th>1.0</th>\n",
       "      <td>261</td>\n",
       "      <td>259</td>\n",
       "    </tr>\n",
       "  </tbody>\n",
       "</table>\n",
       "</div>"
      ],
      "text/plain": [
       "Predicted   0.0  1.0\n",
       "True                \n",
       "0.0        1083  397\n",
       "1.0         261  259"
      ]
     },
     "execution_count": 20,
     "metadata": {},
     "output_type": "execute_result"
    }
   ],
   "source": [
    "#split data into testing and training setup\n",
    "train = sample.sample(int(.8*len(sample)), replace=False).copy()\n",
    "test = sample[~sample.index.isin(train.index.values)]\n",
    "\n",
    "train_x = train['FullDescription']\n",
    "train_y = train['target']\n",
    "\n",
    "test_x = test['FullDescription']\n",
    "test_y = test['target']\n",
    " \n",
    "def pos_bigram_counter(text):\n",
    "    tokens = nltk.word_tokenize(text)\n",
    "    pos = nltk.pos_tag(tokens, tagset=\"universal\")\n",
    "    bigrams = list(nltk.bigrams(pos))\n",
    " \n",
    "    bigram_pos = ((pos1, pos2) for (w1, pos1), (w2, pos2) in bigrams)\n",
    "    bigram_list = list(bigram_pos)\n",
    "    string_list = map(' '.join, bigram_list) \n",
    "    return string_list\n",
    "\n",
    "vectorizerstop = CountVectorizer(analyzer = \"word\",   \\\n",
    "                             tokenizer = pos_bigram_counter,    \\\n",
    "                             preprocessor = None, \\\n",
    "                             stop_words = None,   \\\n",
    "                             max_features = None, lowercase=True)\n",
    "\n",
    "train_x = vectorizerstop.fit_transform(train_x)\n",
    "test_x = vectorizerstop.transform(test_x)\n",
    "\n",
    "#train the model\n",
    "model = MultinomialNB().fit(train_x, train_y)\n",
    "\n",
    "#get the predictions from the model\n",
    "predicted = model.predict(test_x)\n",
    "\n",
    "print 'Accuracy: '+ str(metrics.accuracy_score(test_y, predicted))\n",
    "mat = pd.crosstab(test_y, predicted, rownames=['True'], colnames=['Predicted'], margins=False)\n",
    "mat # in our case 1 is high and 0 is low"
   ]
  },
  {
   "cell_type": "markdown",
   "metadata": {},
   "source": [
    "The accuracy when using parts of speech bigrams to predict high or low salary is dramatically lower than compared to B1. In B1 the accuracy is about 78% while in this question it has reduced to 67%. This shows that paprts of speech bigrams are not good predictors of high or low salary."
   ]
  }
 ],
 "metadata": {
  "kernelspec": {
   "display_name": "Python 2",
   "language": "python",
   "name": "python2"
  },
  "language_info": {
   "codemirror_mode": {
    "name": "ipython",
    "version": 2
   },
   "file_extension": ".py",
   "mimetype": "text/x-python",
   "name": "python",
   "nbconvert_exporter": "python",
   "pygments_lexer": "ipython2",
   "version": "2.7.13"
  }
 },
 "nbformat": 4,
 "nbformat_minor": 2
}
